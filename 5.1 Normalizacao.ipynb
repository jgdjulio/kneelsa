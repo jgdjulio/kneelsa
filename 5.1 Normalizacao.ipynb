{
 "cells": [
  {
   "cell_type": "code",
   "execution_count": 1,
   "metadata": {},
   "outputs": [],
   "source": [
    "import cv2\n",
    "import pydicom\n",
    "import sys\n",
    "import matplotlib.pyplot as plt\n",
    "from pydicom import dcmread\n",
    "from pydicom.data import get_testdata_file\n",
    "from os import listdir\n",
    "import glob\n",
    "import pandas as pd\n",
    "from pathlib import Path\n",
    "from PIL import Image\n",
    "import numpy as np"
   ]
  },
  {
   "cell_type": "code",
   "execution_count": 2,
   "metadata": {},
   "outputs": [],
   "source": [
    "sums = 0\n",
    "sums_squared = 0\n",
    "\n",
    "TRAIN_PATH1 = Path(\"padrao_ouro_pr/Stratified/2/train/1\")\n",
    "TRAIN_PATH0 = Path(\"padrao_ouro_pr/Stratified/2/train/0\")\n",
    "\n",
    "files1 = [f for f in listdir(TRAIN_PATH1)]\n",
    "files0 = [f for f in listdir(TRAIN_PATH0)]\n",
    "\n",
    "for file in files1:\n",
    "    # Standardize the array\n",
    "    image = Image.open(TRAIN_PATH1/file)\n",
    "    image_arr = np.array(image)/255\n",
    "    \n",
    "    # Resize the image to 224x224\n",
    "    image_arr = cv2.resize(image_arr, (224, 224)).astype(np.float16)\n",
    "    \n",
    "    normalizer = image_arr.shape[0] * image_arr.shape[1]  # Normalize sum of image\n",
    "    sums += np.sum(image_arr) / normalizer\n",
    "    sums_squared += (np.power(image_arr, 2).sum()) / normalizer\n",
    "\n",
    "for file in files0:\n",
    "    # Standardize the array\n",
    "    image = np.array(Image.open(TRAIN_PATH0/file))/255\n",
    "    \n",
    "    # Resize the image to 224x224\n",
    "    image_arr = cv2.resize(image, (224, 224)).astype(np.float16)\n",
    "    \n",
    "    normalizer = image_arr.shape[0] * image_arr.shape[1]  # Normalize sum of image\n",
    "    sums += np.sum(image_arr) / normalizer\n",
    "    sums_squared += (np.power(image_arr, 2).sum()) / normalizer"
   ]
  },
  {
   "cell_type": "code",
   "execution_count": 3,
   "metadata": {},
   "outputs": [],
   "source": [
    "mean = sums / (350*0.8)\n",
    "std = np.sqrt(sums_squared / (350*0.8) - (mean**2))"
   ]
  },
  {
   "cell_type": "code",
   "execution_count": 4,
   "metadata": {},
   "outputs": [
    {
     "data": {
      "text/plain": [
       "[0.49800929300291524, 0.24556127010829118]"
      ]
     },
     "execution_count": 4,
     "metadata": {},
     "output_type": "execute_result"
    }
   ],
   "source": [
    "[mean, std]"
   ]
  },
  {
   "cell_type": "code",
   "execution_count": 34,
   "metadata": {},
   "outputs": [
    {
     "data": {
      "text/plain": [
       "[0.4961825801749269, 0.24619624513349647]"
      ]
     },
     "execution_count": 34,
     "metadata": {},
     "output_type": "execute_result"
    }
   ],
   "source": [
    "#Strat1\n",
    "[mean, std]"
   ]
  },
  {
   "cell_type": "code",
   "execution_count": null,
   "metadata": {},
   "outputs": [],
   "source": []
  }
 ],
 "metadata": {
  "kernelspec": {
   "display_name": "Python 3",
   "language": "python",
   "name": "python3"
  },
  "language_info": {
   "codemirror_mode": {
    "name": "ipython",
    "version": 3
   },
   "file_extension": ".py",
   "mimetype": "text/x-python",
   "name": "python",
   "nbconvert_exporter": "python",
   "pygments_lexer": "ipython3",
   "version": "3.8.5"
  }
 },
 "nbformat": 4,
 "nbformat_minor": 4
}
